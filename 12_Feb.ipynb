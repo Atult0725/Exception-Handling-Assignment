{
 "cells": [
  {
   "cell_type": "code",
   "execution_count": null,
   "id": "cb392095-4eef-4b64-9660-ba9583acf61f",
   "metadata": {},
   "outputs": [],
   "source": [
    "\"\"\"Q1.write the difference between exceptions and errors in python\n",
    "\n",
    "Ans-An exception is an event, which occurs during the execution of a program that disrupts the normal flow of the program's instructions. In general, when a Python script encounters a situation that it cannot cope with, it raises an exception. An exception is a Python object that represents an error.\n",
    "\n",
    "When a Python script raises an exception, it must either handle the exception immediately otherwise it terminates and quits.\n",
    "\n",
    "Diffrence between excption and error--->\n",
    "\n",
    "Errors cannot be handled, while Python exceptions can be handled at the run time. An error can be a syntax (parsing) error, while there can be many types of exceptions that could occur during the execution and are not unconditionally inoperable. An Error might indicate critical problems that a reasonable application should not try to catch, while an Exception might indicate conditions that an application should try to catch. Errors are a form of an unchecked exception and are irrecoverable like an OutOfMemoryError, which a programmer should not try to handle.\n",
    "\"\"\"\n"
   ]
  },
  {
   "cell_type": "code",
   "execution_count": null,
   "id": "950e1e82-7eaa-46d7-bea7-0a8b3dbca529",
   "metadata": {},
   "outputs": [],
   "source": [
    "\n",
    "\"\"\"Q2. What happens when an exception is not handled? Explain in with an example\n",
    "\n",
    "Ans-Exception handling makes your code more robust and helps prevent potential failures that would cause your program to stop in an uncontrolled manner. Imagine if you have written a code which is deployed in production and still, it terminates due to an exception, your client would not appreciate that, so it's better to handle the particular exception beforehand and avoid the chaos\n",
    "\"\"\"\n",
    "a=100\n",
    "b=0\n",
    "c=a/b # This line throws exception because we cant devide by zero\n",
    "print(c)\n",
    "\n"
   ]
  },
  {
   "cell_type": "code",
   "execution_count": null,
   "id": "401b15a2-7a5c-427d-91b4-fc746f075818",
   "metadata": {},
   "outputs": [],
   "source": [
    "\n",
    "\"\"\"Q3. Which Python statements are used to catch and handle exeptions? Explain in with an example.\n",
    "\n",
    "Ans-->Python uses the try and except statements to catch and handle exceptions.\n",
    "\n",
    "Here, the try block contains the code that may raise an exception, and the except block contains the code to handle the exception if it is raised. ExceptionType is the type of exception you want to catch.\n",
    "\n",
    "\n",
    "\"\"\"\n",
    "\n",
    "filename = 'example.txt'\n",
    "try:\n",
    "    with open(filename, 'r') as f:\n",
    "        print(f.read())\n",
    "except FileNotFoundError:\n",
    "    print(f\"Error: '{filename}' does not exist.\")\n",
    "\n",
    "\"\"\"\n",
    "\n",
    "\n",
    "For example, let's say we want to read a file and print its contents. If the file doesn't exist, we want to print an error message instead of raising an exception. We can use a try and except block to achieve this:\n",
    "\n",
    "In this example, we use the open() function to try to open the file example.txt for reading. If the file doesn't exist, a FileNotFoundError exception will be raised. We catch this exception in the except block and print an error message.\n",
    "\n",
    "If the file does exist, the contents of the file will be printed to the console.\n",
    "\"\"\"\n"
   ]
  },
  {
   "cell_type": "code",
   "execution_count": null,
   "id": "8d4e1434-95e8-42ed-824b-bbc92df37c00",
   "metadata": {},
   "outputs": [],
   "source": [
    "\n",
    "\"\"\"\n",
    "Q4.explain with example in python:1.try and else 2.finally 3.raise\"\"\"\n",
    "\n",
    "\"\"\"Ans--1.try and else--try and else :In Python, the try statement can be followed by an optional else block. The else block is executed if and only if no exception was raised in the try block. Here's an example:\n",
    "\"\"\"\n",
    "try:\n",
    "    x = int(input(\"Please enter a number: \"))\n",
    "except ValueError:\n",
    "    print(\"Oops!  That was not a valid number.\")\n",
    "else:\n",
    "    print(\"You entered\", x)\n",
    "\n",
    "\n",
    "\n",
    "\"\"\"finally--In Python, the try statement can also be followed by a finally block. The finally block is always executed, regardless of whether an exception was raised or not. example\"\"\"\n",
    "try:\n",
    "    x = 5 / 0\n",
    "except ZeroDivisionError:\n",
    "    print(\"Cannot divide by zero\")\n",
    "finally:\n",
    "    print(\"This will always be printed\")\n",
    "\n",
    "\n",
    "\"\"\"raise--raise:In Python, the raise statement is used to raise an exception.example\"\"\"\n",
    "x = 10\n",
    "if x > 5:\n",
    "    raise ValueError(\"x should not be greater than 5\")\n",
    "\n"
   ]
  },
  {
   "cell_type": "code",
   "execution_count": 5,
   "id": "350540af-dad4-4d25-8d6b-0b419368fe05",
   "metadata": {},
   "outputs": [
    {
     "name": "stdout",
     "output_type": "stream",
     "text": [
      "Cannot calculate square root of a negative number\n"
     ]
    }
   ],
   "source": [
    "\"\"\"Q5.what are custom exception in python? Why do we need Custom Exception? Explain with a example\"\"\"\n",
    "\n",
    "'''Custom exceptions in Python are user-defined exceptions that allow programmers to create their own exception classes. These exceptions can be raised when a specific error or condition occurs in their program, providing more detailed information about the problem.\n",
    "\n",
    "We need custom exceptions in Python when we want to handle specific errors or conditions that are not covered by the built-in exception classes. By creating custom exceptions, we can provide more meaningful error messages to the user and improve the overall reliability and robustness of our code.\n",
    "\n",
    "Here is an example of a custom exception in Python:'''\n",
    "\n",
    "class NegativeNumberError(Exception):\n",
    "    pass\n",
    "\n",
    "import math\n",
    "\n",
    "def calculate_square_root(n):\n",
    "    if n < 0:\n",
    "        raise NegativeNumberError(\"Cannot calculate square root of a negative number\")\n",
    "    return math.sqrt(n)\n",
    "\n",
    "try:\n",
    "    result = calculate_square_root(-4)\n",
    "except NegativeNumberError as e:\n",
    "    print(e)\n"
   ]
  },
  {
   "cell_type": "code",
   "execution_count": 6,
   "id": "01ca4408-ae9a-46b7-970d-b6c4dd7d0f6e",
   "metadata": {},
   "outputs": [
    {
     "name": "stdin",
     "output_type": "stream",
     "text": [
      "Enter your age: 675\n"
     ]
    },
    {
     "name": "stdout",
     "output_type": "stream",
     "text": [
      "Invalid age. Age must be 0 to 120\n"
     ]
    }
   ],
   "source": [
    "\"\"\"Q6. Create custom exception class. Use this class to handle an exception.\"\"\"\n",
    "\n",
    "class InvalidAgeError(Exception):\n",
    "    def __init__(self,message):\n",
    "        self.message=message\n",
    "        super().__init__(self.message)\n",
    "       \n",
    "def validate_age(age):\n",
    "    if age<0 or age>120:\n",
    "        raise InvalidAgeError(\"Invalid age. Age must be 0 to 120\")\n",
    "\n",
    "try:\n",
    "    age=int(input(\"Enter your age:\"))\n",
    "    validate_age(age)\n",
    "    print(f'Your age is {age}')\n",
    "\n",
    "except InvalidAgeError as e:\n",
    "    print(e.message)\n",
    "\n",
    "\n"
   ]
  },
  {
   "cell_type": "code",
   "execution_count": null,
   "id": "b60268cf-9a05-4d03-9e77-e9e69d5fafd3",
   "metadata": {},
   "outputs": [],
   "source": []
  }
 ],
 "metadata": {
  "kernelspec": {
   "display_name": "Python 3 (ipykernel)",
   "language": "python",
   "name": "python3"
  },
  "language_info": {
   "codemirror_mode": {
    "name": "ipython",
    "version": 3
   },
   "file_extension": ".py",
   "mimetype": "text/x-python",
   "name": "python",
   "nbconvert_exporter": "python",
   "pygments_lexer": "ipython3",
   "version": "3.10.8"
  }
 },
 "nbformat": 4,
 "nbformat_minor": 5
}
